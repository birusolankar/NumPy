{
  "nbformat": 4,
  "nbformat_minor": 0,
  "metadata": {
    "colab": {
      "provenance": [],
      "authorship_tag": "ABX9TyPOPfa09Okv0olcAq+u25x/",
      "include_colab_link": true
    },
    "kernelspec": {
      "name": "python3",
      "display_name": "Python 3"
    },
    "language_info": {
      "name": "python"
    }
  },
  "cells": [
    {
      "cell_type": "markdown",
      "metadata": {
        "id": "view-in-github",
        "colab_type": "text"
      },
      "source": [
        "<a href=\"https://colab.research.google.com/github/birusolankar/NumPy/blob/main/Numpy_array_day1.ipynb\" target=\"_parent\"><img src=\"https://colab.research.google.com/assets/colab-badge.svg\" alt=\"Open In Colab\"/></a>"
      ]
    },
    {
      "cell_type": "code",
      "execution_count": 1,
      "metadata": {
        "id": "VFlcQml6kiQf"
      },
      "outputs": [],
      "source": [
        "import numpy as np"
      ]
    },
    {
      "cell_type": "code",
      "source": [
        "# np.array, np.zeros, np.full, np.arange, np.random.randint, np.shape,"
      ],
      "metadata": {
        "id": "k0WQ_32qtPPS"
      },
      "execution_count": null,
      "outputs": []
    },
    {
      "cell_type": "code",
      "source": [
        "# creating 1 dimensional numpy array\n",
        "n1 = np.array([1,2,3,4,5])"
      ],
      "metadata": {
        "id": "xPJQ0POulcNC"
      },
      "execution_count": 2,
      "outputs": []
    },
    {
      "cell_type": "code",
      "source": [
        "n1*2"
      ],
      "metadata": {
        "colab": {
          "base_uri": "https://localhost:8080/"
        },
        "id": "FUSy1wzplyYD",
        "outputId": "fe40c61a-2b33-4bd6-d5c9-73ec624c4c63"
      },
      "execution_count": 20,
      "outputs": [
        {
          "output_type": "execute_result",
          "data": {
            "text/plain": [
              "array([ 2,  4,  6,  8, 10])"
            ]
          },
          "metadata": {},
          "execution_count": 20
        }
      ]
    },
    {
      "cell_type": "code",
      "source": [
        "type(n1)"
      ],
      "metadata": {
        "colab": {
          "base_uri": "https://localhost:8080/"
        },
        "id": "TGFqPp-Glj-K",
        "outputId": "f9803b74-851c-4905-f323-46445cb3b7b2"
      },
      "execution_count": 3,
      "outputs": [
        {
          "output_type": "execute_result",
          "data": {
            "text/plain": [
              "numpy.ndarray"
            ]
          },
          "metadata": {},
          "execution_count": 3
        }
      ]
    },
    {
      "cell_type": "code",
      "source": [
        "# creating two dimensional array\n",
        "n2 = np.array([[1,2,3,5], [10,20,30,40]])\n",
        "n2"
      ],
      "metadata": {
        "colab": {
          "base_uri": "https://localhost:8080/"
        },
        "id": "P8s2G_V3lkyT",
        "outputId": "e80a5682-df58-4e98-94a9-a3b1cd4b5cbf"
      },
      "execution_count": 6,
      "outputs": [
        {
          "output_type": "execute_result",
          "data": {
            "text/plain": [
              "array([[ 1,  2,  3,  5],\n",
              "       [10, 20, 30, 40]])"
            ]
          },
          "metadata": {},
          "execution_count": 6
        }
      ]
    },
    {
      "cell_type": "code",
      "source": [
        "type(n2)"
      ],
      "metadata": {
        "colab": {
          "base_uri": "https://localhost:8080/"
        },
        "id": "QMhFVW3clwmJ",
        "outputId": "5cd9801b-5d66-420d-ac0d-fde80687ef4d"
      },
      "execution_count": 7,
      "outputs": [
        {
          "output_type": "execute_result",
          "data": {
            "text/plain": [
              "numpy.ndarray"
            ]
          },
          "metadata": {},
          "execution_count": 7
        }
      ]
    },
    {
      "cell_type": "markdown",
      "source": [
        "### creating numpy array with zeros\n"
      ],
      "metadata": {
        "id": "ASkMtFFEmbTq"
      }
    },
    {
      "cell_type": "code",
      "source": [
        "# creating numpy array with zeros\n",
        "n3 = np.zeros([1,2])\n",
        "n3"
      ],
      "metadata": {
        "colab": {
          "base_uri": "https://localhost:8080/"
        },
        "id": "ZK9nIRVjl1-5",
        "outputId": "475633b3-b601-4f88-a1d3-4dbfd4454503"
      },
      "execution_count": 10,
      "outputs": [
        {
          "output_type": "execute_result",
          "data": {
            "text/plain": [
              "array([[0., 0.]])"
            ]
          },
          "metadata": {},
          "execution_count": 10
        }
      ]
    },
    {
      "cell_type": "code",
      "source": [
        "n4 = np.zeros([5,5])\n",
        "n4"
      ],
      "metadata": {
        "colab": {
          "base_uri": "https://localhost:8080/"
        },
        "id": "-MNbrO5el5T7",
        "outputId": "7d8ffd95-fcb6-4b88-e02e-f64eade729c5"
      },
      "execution_count": 12,
      "outputs": [
        {
          "output_type": "execute_result",
          "data": {
            "text/plain": [
              "array([[0., 0., 0., 0., 0.],\n",
              "       [0., 0., 0., 0., 0.],\n",
              "       [0., 0., 0., 0., 0.],\n",
              "       [0., 0., 0., 0., 0.],\n",
              "       [0., 0., 0., 0., 0.]])"
            ]
          },
          "metadata": {},
          "execution_count": 12
        }
      ]
    },
    {
      "cell_type": "markdown",
      "source": [
        "# Creating numpy array with same number using full method of numpy"
      ],
      "metadata": {
        "id": "q5XpmEnkmdme"
      }
    },
    {
      "cell_type": "code",
      "source": [
        "n5 = np.full((2,2),10)\n",
        "n5"
      ],
      "metadata": {
        "colab": {
          "base_uri": "https://localhost:8080/"
        },
        "id": "cnOQks_2mA36",
        "outputId": "1951a2dd-92ba-4176-a678-cf85e02a9278"
      },
      "execution_count": 14,
      "outputs": [
        {
          "output_type": "execute_result",
          "data": {
            "text/plain": [
              "array([[10, 10],\n",
              "       [10, 10]])"
            ]
          },
          "metadata": {},
          "execution_count": 14
        }
      ]
    },
    {
      "cell_type": "code",
      "source": [
        "n6 = np.full((5,5),8)\n",
        "n6"
      ],
      "metadata": {
        "colab": {
          "base_uri": "https://localhost:8080/"
        },
        "id": "V7IxJQlDmqAS",
        "outputId": "699bff0a-f70b-4956-afea-d110ae633662"
      },
      "execution_count": 16,
      "outputs": [
        {
          "output_type": "execute_result",
          "data": {
            "text/plain": [
              "array([[8, 8, 8, 8, 8],\n",
              "       [8, 8, 8, 8, 8],\n",
              "       [8, 8, 8, 8, 8],\n",
              "       [8, 8, 8, 8, 8],\n",
              "       [8, 8, 8, 8, 8]])"
            ]
          },
          "metadata": {},
          "execution_count": 16
        }
      ]
    },
    {
      "cell_type": "markdown",
      "source": [
        "# Initialising numpy array within a range"
      ],
      "metadata": {
        "id": "xia8OO73nD05"
      }
    },
    {
      "cell_type": "code",
      "source": [
        "n7 = np.arange(10,20)\n",
        "n7"
      ],
      "metadata": {
        "colab": {
          "base_uri": "https://localhost:8080/"
        },
        "id": "DEDW6IMPmvd4",
        "outputId": "5c125926-4cea-4157-f6a6-1a3978636e51"
      },
      "execution_count": 17,
      "outputs": [
        {
          "output_type": "execute_result",
          "data": {
            "text/plain": [
              "array([10, 11, 12, 13, 14, 15, 16, 17, 18, 19])"
            ]
          },
          "metadata": {},
          "execution_count": 17
        }
      ]
    },
    {
      "cell_type": "code",
      "source": [
        "n8 = np.arange(10,100,10)\n",
        "n8"
      ],
      "metadata": {
        "colab": {
          "base_uri": "https://localhost:8080/"
        },
        "id": "Uj1VnwRTnNW7",
        "outputId": "d189c46e-b862-4107-aa6d-2af07ceabdd0"
      },
      "execution_count": 19,
      "outputs": [
        {
          "output_type": "execute_result",
          "data": {
            "text/plain": [
              "array([10, 20, 30, 40, 50, 60, 70, 80, 90])"
            ]
          },
          "metadata": {},
          "execution_count": 19
        }
      ]
    },
    {
      "cell_type": "markdown",
      "source": [
        "#Initialising numpy array with random number"
      ],
      "metadata": {
        "id": "FRWGaTaNnqOs"
      }
    },
    {
      "cell_type": "code",
      "source": [
        "n9 = np.random.randint(1,100,5)\n",
        "n9"
      ],
      "metadata": {
        "colab": {
          "base_uri": "https://localhost:8080/"
        },
        "id": "iPuwdVlznTZ4",
        "outputId": "3d90cb09-6a9f-4520-981a-63274743dca3"
      },
      "execution_count": 23,
      "outputs": [
        {
          "output_type": "execute_result",
          "data": {
            "text/plain": [
              "array([96, 37, 82, 55, 55])"
            ]
          },
          "metadata": {},
          "execution_count": 23
        }
      ]
    },
    {
      "cell_type": "markdown",
      "source": [
        "# Checking the shape of numpy array"
      ],
      "metadata": {
        "id": "U4tXSgOQoMtN"
      }
    },
    {
      "cell_type": "code",
      "source": [
        "n2 = np.array([[1,2,3,5], [10,20,30,40]])\n",
        "n2"
      ],
      "metadata": {
        "colab": {
          "base_uri": "https://localhost:8080/"
        },
        "id": "cLNQHAacn3Qx",
        "outputId": "0eeb5de2-2131-4eb3-98c9-689fe7ff12c8"
      },
      "execution_count": 29,
      "outputs": [
        {
          "output_type": "execute_result",
          "data": {
            "text/plain": [
              "array([[ 1,  2,  3,  5],\n",
              "       [10, 20, 30, 40]])"
            ]
          },
          "metadata": {},
          "execution_count": 29
        }
      ]
    },
    {
      "cell_type": "code",
      "source": [
        "n2.shape"
      ],
      "metadata": {
        "colab": {
          "base_uri": "https://localhost:8080/"
        },
        "id": "mn-YndQQobcT",
        "outputId": "5d6701bc-66af-4924-87f8-d5f0c798d739"
      },
      "execution_count": 30,
      "outputs": [
        {
          "output_type": "execute_result",
          "data": {
            "text/plain": [
              "(2, 4)"
            ]
          },
          "metadata": {},
          "execution_count": 30
        }
      ]
    },
    {
      "cell_type": "code",
      "source": [
        "n2.shape = (4,2)\n",
        "n2"
      ],
      "metadata": {
        "colab": {
          "base_uri": "https://localhost:8080/"
        },
        "id": "W_UOvlfxombS",
        "outputId": "9d2d68c1-606c-4f7a-f29f-f556413af5ff"
      },
      "execution_count": 31,
      "outputs": [
        {
          "output_type": "execute_result",
          "data": {
            "text/plain": [
              "array([[ 1,  2],\n",
              "       [ 3,  5],\n",
              "       [10, 20],\n",
              "       [30, 40]])"
            ]
          },
          "metadata": {},
          "execution_count": 31
        }
      ]
    },
    {
      "cell_type": "code",
      "source": [
        "array = np.array([[1,2,3,4,5,6], [10,20,30,40,50,60]])\n",
        "array"
      ],
      "metadata": {
        "colab": {
          "base_uri": "https://localhost:8080/"
        },
        "id": "0iPcB482pYf3",
        "outputId": "deab7d65-11fd-4591-8c6a-db687c8f2849"
      },
      "execution_count": 38,
      "outputs": [
        {
          "output_type": "execute_result",
          "data": {
            "text/plain": [
              "array([[ 1,  2,  3,  4,  5,  6],\n",
              "       [10, 20, 30, 40, 50, 60]])"
            ]
          },
          "metadata": {},
          "execution_count": 38
        }
      ]
    },
    {
      "cell_type": "code",
      "source": [
        "array.shape"
      ],
      "metadata": {
        "colab": {
          "base_uri": "https://localhost:8080/"
        },
        "id": "Mq9p0PpqsuwV",
        "outputId": "405ab4eb-ce03-4fc8-c98b-787dbf153f7f"
      },
      "execution_count": 39,
      "outputs": [
        {
          "output_type": "execute_result",
          "data": {
            "text/plain": [
              "(2, 6)"
            ]
          },
          "metadata": {},
          "execution_count": 39
        }
      ]
    },
    {
      "cell_type": "code",
      "source": [
        "array.shape = (4,3)\n",
        "array"
      ],
      "metadata": {
        "colab": {
          "base_uri": "https://localhost:8080/"
        },
        "id": "_I6WhtaVsigw",
        "outputId": "aca151d4-56a3-41e3-8193-598383c50295"
      },
      "execution_count": 44,
      "outputs": [
        {
          "output_type": "execute_result",
          "data": {
            "text/plain": [
              "array([[ 1,  2,  3],\n",
              "       [ 4,  5,  6],\n",
              "       [10, 20, 30],\n",
              "       [40, 50, 60]])"
            ]
          },
          "metadata": {},
          "execution_count": 44
        }
      ]
    },
    {
      "cell_type": "code",
      "source": [],
      "metadata": {
        "id": "aMpK02svszZI"
      },
      "execution_count": null,
      "outputs": []
    },
    {
      "cell_type": "markdown",
      "source": [
        "# vstack, hstack, column_stack"
      ],
      "metadata": {
        "id": "BO51y-NPtp0b"
      }
    },
    {
      "cell_type": "code",
      "source": [
        "n1 = np.array([10,20,30,40])\n",
        "n2 = np.array([50,60,70,80])"
      ],
      "metadata": {
        "id": "ZnVF782Kttqv"
      },
      "execution_count": 45,
      "outputs": []
    },
    {
      "cell_type": "code",
      "source": [
        "vstack = np.vstack((n1,n2))\n",
        "vstack"
      ],
      "metadata": {
        "colab": {
          "base_uri": "https://localhost:8080/"
        },
        "id": "RCpmsraHuUQ8",
        "outputId": "17107cab-7963-4428-acbe-bfe0ad0fea61"
      },
      "execution_count": 47,
      "outputs": [
        {
          "output_type": "execute_result",
          "data": {
            "text/plain": [
              "array([[10, 20, 30, 40],\n",
              "       [50, 60, 70, 80]])"
            ]
          },
          "metadata": {},
          "execution_count": 47
        }
      ]
    },
    {
      "cell_type": "code",
      "source": [
        "hstack = np.hstack((n1,n2))\n",
        "hstack"
      ],
      "metadata": {
        "colab": {
          "base_uri": "https://localhost:8080/"
        },
        "id": "4ciNiy93uafQ",
        "outputId": "f9e42a1c-5cf6-4ad8-a335-20f744e128d5"
      },
      "execution_count": 49,
      "outputs": [
        {
          "output_type": "execute_result",
          "data": {
            "text/plain": [
              "array([10, 20, 30, 40, 50, 60, 70, 80])"
            ]
          },
          "metadata": {},
          "execution_count": 49
        }
      ]
    },
    {
      "cell_type": "code",
      "source": [
        "column_stack = np.column_stack((n1,n2))\n",
        "column_stack"
      ],
      "metadata": {
        "colab": {
          "base_uri": "https://localhost:8080/"
        },
        "id": "wLzHzZR_umOs",
        "outputId": "20786c8d-f280-4aa9-aa08-c6dbb5b3aeab"
      },
      "execution_count": 51,
      "outputs": [
        {
          "output_type": "execute_result",
          "data": {
            "text/plain": [
              "array([[10, 50],\n",
              "       [20, 60],\n",
              "       [30, 70],\n",
              "       [40, 80]])"
            ]
          },
          "metadata": {},
          "execution_count": 51
        }
      ]
    },
    {
      "cell_type": "markdown",
      "source": [
        "# intersect1d, setdiff1d"
      ],
      "metadata": {
        "id": "PAzuc2afy8V1"
      }
    },
    {
      "cell_type": "code",
      "source": [
        "n1 = np.array([1,2,3,4,5,6])\n",
        "n2 = np.array([5,6,7,8,9,10,11])\n",
        "print(n1)\n",
        "print(n2)"
      ],
      "metadata": {
        "colab": {
          "base_uri": "https://localhost:8080/"
        },
        "id": "PNmzELcEutxx",
        "outputId": "eb25be21-1497-43eb-d761-42e4da660c38"
      },
      "execution_count": 52,
      "outputs": [
        {
          "output_type": "stream",
          "name": "stdout",
          "text": [
            "[1 2 3 4 5 6]\n",
            "[ 5  6  7  8  9 10 11]\n"
          ]
        }
      ]
    },
    {
      "cell_type": "code",
      "source": [
        "# intersect1d----> gives the common element of the both the arrays\n",
        "\n",
        "np.intersect1d(n1,n2)"
      ],
      "metadata": {
        "colab": {
          "base_uri": "https://localhost:8080/"
        },
        "id": "Il2LZu0hzNsE",
        "outputId": "d92b25b8-c33b-44ed-d64c-6deef8c34670"
      },
      "execution_count": 55,
      "outputs": [
        {
          "output_type": "execute_result",
          "data": {
            "text/plain": [
              "array([5, 6])"
            ]
          },
          "metadata": {},
          "execution_count": 55
        }
      ]
    },
    {
      "cell_type": "code",
      "source": [
        "# setdiff1d----> gives the unique element of the first array\n",
        "\n",
        "np.setdiff1d(n1,n2)"
      ],
      "metadata": {
        "colab": {
          "base_uri": "https://localhost:8080/"
        },
        "id": "wXQKQ6RTze8C",
        "outputId": "187d4067-b5ed-41c4-8c72-dd67c4c59e9b"
      },
      "execution_count": 57,
      "outputs": [
        {
          "output_type": "execute_result",
          "data": {
            "text/plain": [
              "array([1, 2, 3, 4])"
            ]
          },
          "metadata": {},
          "execution_count": 57
        }
      ]
    },
    {
      "cell_type": "code",
      "source": [
        "np.setdiff1d(n2,n1)"
      ],
      "metadata": {
        "colab": {
          "base_uri": "https://localhost:8080/"
        },
        "id": "Bh4n7loXzvL1",
        "outputId": "68ebb4e9-1530-486f-d558-898cd5fb080d"
      },
      "execution_count": 58,
      "outputs": [
        {
          "output_type": "execute_result",
          "data": {
            "text/plain": [
              "array([ 7,  8,  9, 10, 11])"
            ]
          },
          "metadata": {},
          "execution_count": 58
        }
      ]
    },
    {
      "cell_type": "markdown",
      "source": [
        "# Addition of array"
      ],
      "metadata": {
        "id": "syUyHZ5-0Bro"
      }
    },
    {
      "cell_type": "code",
      "source": [
        "n1 = np.array([10,20])\n",
        "n2 = np.array([30,40])"
      ],
      "metadata": {
        "id": "_zG45PAdz0Xy"
      },
      "execution_count": 59,
      "outputs": []
    },
    {
      "cell_type": "code",
      "source": [
        "np.sum([n1,n2])"
      ],
      "metadata": {
        "colab": {
          "base_uri": "https://localhost:8080/"
        },
        "id": "kvToF1Lu0LDT",
        "outputId": "b88284f0-7684-4c28-c8f0-099fdc15460c"
      },
      "execution_count": 61,
      "outputs": [
        {
          "output_type": "execute_result",
          "data": {
            "text/plain": [
              "100"
            ]
          },
          "metadata": {},
          "execution_count": 61
        }
      ]
    },
    {
      "cell_type": "code",
      "source": [
        "np.sum([n1,n2], axis = 0)  # sums numbers vertically"
      ],
      "metadata": {
        "colab": {
          "base_uri": "https://localhost:8080/"
        },
        "id": "zckFZt1T0jwl",
        "outputId": "ee05f79a-1849-4172-ec58-0cb1e288ffb3"
      },
      "execution_count": 63,
      "outputs": [
        {
          "output_type": "execute_result",
          "data": {
            "text/plain": [
              "array([40, 60])"
            ]
          },
          "metadata": {},
          "execution_count": 63
        }
      ]
    },
    {
      "cell_type": "code",
      "source": [
        "np.sum([n1,n2], axis = 1) # sums numbers horizontally"
      ],
      "metadata": {
        "colab": {
          "base_uri": "https://localhost:8080/"
        },
        "id": "xHcd6n7B0vN6",
        "outputId": "790c36af-f1e2-47e7-9955-c843d5b1b462"
      },
      "execution_count": 65,
      "outputs": [
        {
          "output_type": "execute_result",
          "data": {
            "text/plain": [
              "array([30, 70])"
            ]
          },
          "metadata": {},
          "execution_count": 65
        }
      ]
    },
    {
      "cell_type": "markdown",
      "source": [
        "# Numpy array mathematics\n",
        "## Addition\n",
        "## Substraction\n",
        "## Multiplication\n",
        "## Division\n",
        "## Mean\n",
        "## Median\n",
        "## Standard Deviation"
      ],
      "metadata": {
        "id": "gvkQLZwV1jXt"
      }
    },
    {
      "cell_type": "code",
      "source": [
        "n1 = np.array([10,20,30,40])"
      ],
      "metadata": {
        "id": "0ZYu5jGn0-fW"
      },
      "execution_count": 66,
      "outputs": []
    },
    {
      "cell_type": "markdown",
      "source": [
        "# Addition"
      ],
      "metadata": {
        "id": "pQQTzRIt2RlQ"
      }
    },
    {
      "cell_type": "code",
      "source": [
        "# Addition\n",
        "n1 + 1"
      ],
      "metadata": {
        "colab": {
          "base_uri": "https://localhost:8080/"
        },
        "id": "pD3Y86H-2Nj5",
        "outputId": "af3f3c22-9d8f-4820-f368-5abcc51365bf"
      },
      "execution_count": 67,
      "outputs": [
        {
          "output_type": "execute_result",
          "data": {
            "text/plain": [
              "array([11, 21, 31, 41])"
            ]
          },
          "metadata": {},
          "execution_count": 67
        }
      ]
    },
    {
      "cell_type": "code",
      "source": [
        "n1 + 100"
      ],
      "metadata": {
        "colab": {
          "base_uri": "https://localhost:8080/"
        },
        "id": "HBYNqz7-2QN-",
        "outputId": "10c7f68f-17b0-4e75-bac2-ded3bedf5f9e"
      },
      "execution_count": 68,
      "outputs": [
        {
          "output_type": "execute_result",
          "data": {
            "text/plain": [
              "array([110, 120, 130, 140])"
            ]
          },
          "metadata": {},
          "execution_count": 68
        }
      ]
    },
    {
      "cell_type": "markdown",
      "source": [
        "# Substraction"
      ],
      "metadata": {
        "id": "pNCpe8802WYA"
      }
    },
    {
      "cell_type": "code",
      "source": [
        "n1 - 1"
      ],
      "metadata": {
        "colab": {
          "base_uri": "https://localhost:8080/"
        },
        "id": "rR34EnVl2U17",
        "outputId": "6afad434-792d-46ee-d72b-ac19834d9bd4"
      },
      "execution_count": 69,
      "outputs": [
        {
          "output_type": "execute_result",
          "data": {
            "text/plain": [
              "array([ 9, 19, 29, 39])"
            ]
          },
          "metadata": {},
          "execution_count": 69
        }
      ]
    },
    {
      "cell_type": "code",
      "source": [
        "n1 - 100"
      ],
      "metadata": {
        "colab": {
          "base_uri": "https://localhost:8080/"
        },
        "id": "ZzNGDwT72ZXs",
        "outputId": "ae9b49d9-9130-4836-b69f-90ffef975ec1"
      },
      "execution_count": 70,
      "outputs": [
        {
          "output_type": "execute_result",
          "data": {
            "text/plain": [
              "array([-90, -80, -70, -60])"
            ]
          },
          "metadata": {},
          "execution_count": 70
        }
      ]
    },
    {
      "cell_type": "markdown",
      "source": [
        "# Multiplication"
      ],
      "metadata": {
        "id": "jBvET10R2dp1"
      }
    },
    {
      "cell_type": "code",
      "source": [
        "n1*5"
      ],
      "metadata": {
        "colab": {
          "base_uri": "https://localhost:8080/"
        },
        "id": "zZOOxf5q2cL8",
        "outputId": "23e7e3c6-41f2-44d1-dcca-f7f495051c1e"
      },
      "execution_count": 71,
      "outputs": [
        {
          "output_type": "execute_result",
          "data": {
            "text/plain": [
              "array([ 50, 100, 150, 200])"
            ]
          },
          "metadata": {},
          "execution_count": 71
        }
      ]
    },
    {
      "cell_type": "markdown",
      "source": [
        "# Division"
      ],
      "metadata": {
        "id": "4NfDwacL2jBc"
      }
    },
    {
      "cell_type": "code",
      "source": [
        "n1/10"
      ],
      "metadata": {
        "colab": {
          "base_uri": "https://localhost:8080/"
        },
        "id": "KYP7-kFr2hiJ",
        "outputId": "5bf875e1-aaba-48c2-9097-5c14c1d31c8a"
      },
      "execution_count": 72,
      "outputs": [
        {
          "output_type": "execute_result",
          "data": {
            "text/plain": [
              "array([1., 2., 3., 4.])"
            ]
          },
          "metadata": {},
          "execution_count": 72
        }
      ]
    },
    {
      "cell_type": "code",
      "source": [
        "n1/20"
      ],
      "metadata": {
        "colab": {
          "base_uri": "https://localhost:8080/"
        },
        "id": "xEheVzL72nyV",
        "outputId": "172efb7d-3d21-42cf-e7b3-61f0c1c34b80"
      },
      "execution_count": 73,
      "outputs": [
        {
          "output_type": "execute_result",
          "data": {
            "text/plain": [
              "array([0.5, 1. , 1.5, 2. ])"
            ]
          },
          "metadata": {},
          "execution_count": 73
        }
      ]
    },
    {
      "cell_type": "markdown",
      "source": [
        "# Mean"
      ],
      "metadata": {
        "id": "ycIVfCuU2uuD"
      }
    },
    {
      "cell_type": "code",
      "source": [
        "n1 = np.array([10,20,30,40,50,60])\n",
        "n1"
      ],
      "metadata": {
        "colab": {
          "base_uri": "https://localhost:8080/"
        },
        "id": "WwooABWB2qO5",
        "outputId": "82796ac4-df3f-4ae4-aaf6-91341b171fac"
      },
      "execution_count": 74,
      "outputs": [
        {
          "output_type": "execute_result",
          "data": {
            "text/plain": [
              "array([10, 20, 30, 40, 50, 60])"
            ]
          },
          "metadata": {},
          "execution_count": 74
        }
      ]
    },
    {
      "cell_type": "code",
      "source": [
        "np.mean(n1)"
      ],
      "metadata": {
        "colab": {
          "base_uri": "https://localhost:8080/"
        },
        "id": "pHiYB7Nn22E8",
        "outputId": "92c1c6ad-d3ae-4821-ceb7-03bce7ee2ac9"
      },
      "execution_count": 75,
      "outputs": [
        {
          "output_type": "execute_result",
          "data": {
            "text/plain": [
              "35.0"
            ]
          },
          "metadata": {},
          "execution_count": 75
        }
      ]
    },
    {
      "cell_type": "code",
      "source": [
        "np.std(n1)"
      ],
      "metadata": {
        "colab": {
          "base_uri": "https://localhost:8080/"
        },
        "id": "BKUrOCzg24In",
        "outputId": "077a07d0-6ffd-4862-a111-a9d781d3374c"
      },
      "execution_count": 77,
      "outputs": [
        {
          "output_type": "execute_result",
          "data": {
            "text/plain": [
              "17.07825127659933"
            ]
          },
          "metadata": {},
          "execution_count": 77
        }
      ]
    },
    {
      "cell_type": "code",
      "source": [
        "np.median(n1)"
      ],
      "metadata": {
        "colab": {
          "base_uri": "https://localhost:8080/"
        },
        "id": "jnPK--kT28tH",
        "outputId": "76af5533-4561-4539-babc-287111727faa"
      },
      "execution_count": 78,
      "outputs": [
        {
          "output_type": "execute_result",
          "data": {
            "text/plain": [
              "35.0"
            ]
          },
          "metadata": {},
          "execution_count": 78
        }
      ]
    },
    {
      "cell_type": "markdown",
      "source": [
        "# Numpy save and load\n"
      ],
      "metadata": {
        "id": "XqlDUTq244eD"
      }
    },
    {
      "cell_type": "code",
      "source": [
        "n1 = np.array([10,20,30,40,50])\n",
        "np.save('my_numpy',n1)"
      ],
      "metadata": {
        "id": "wDmjsdJt4Cug"
      },
      "execution_count": 79,
      "outputs": []
    },
    {
      "cell_type": "code",
      "source": [
        "n2 = np.load('my_numpy.npy')"
      ],
      "metadata": {
        "id": "dsXfBNrZ5EP8"
      },
      "execution_count": 80,
      "outputs": []
    },
    {
      "cell_type": "code",
      "source": [
        "n2"
      ],
      "metadata": {
        "colab": {
          "base_uri": "https://localhost:8080/"
        },
        "id": "e_jpD42b5MAu",
        "outputId": "fc8fea5d-b132-48a0-dc14-23d82c1accb9"
      },
      "execution_count": 81,
      "outputs": [
        {
          "output_type": "execute_result",
          "data": {
            "text/plain": [
              "array([10, 20, 30, 40, 50])"
            ]
          },
          "metadata": {},
          "execution_count": 81
        }
      ]
    },
    {
      "cell_type": "code",
      "source": [],
      "metadata": {
        "id": "I1PiGym_5Msw"
      },
      "execution_count": null,
      "outputs": []
    }
  ]
}